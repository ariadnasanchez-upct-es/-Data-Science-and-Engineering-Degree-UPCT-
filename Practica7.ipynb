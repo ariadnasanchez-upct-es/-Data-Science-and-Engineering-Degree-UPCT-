{
 "cells": [
  {
   "cell_type": "markdown",
   "metadata": {},
   "source": [
    "# Practica 7: Listas, tuplas y cadenas."
   ]
  },
  {
   "cell_type": "markdown",
   "metadata": {},
   "source": [
    "Ejercicio 1: Elementos repetidos"
   ]
  },
  {
   "cell_type": "code",
   "execution_count": 1,
   "metadata": {},
   "outputs": [
    {
     "name": "stdout",
     "output_type": "stream",
     "text": [
      "¿Hay elementos repetidos en [1, 2, 3, 4, 5, 3]? Sí (1)\n"
     ]
    }
   ],
   "source": [
    "def elementos_repetidos(lista):\n",
    "    \"\"\"\n",
    "    Comprueba si hay elementos repetidos en una lista.\n",
    "    :param lista: Lista de números enteros.\n",
    "    :return: 1 si hay elementos repetidos, 0 si no los hay.\n",
    "    \"\"\"\n",
    "    # Convertimos la lista a un conjunto (los conjuntos eliminan duplicados).\n",
    "    if len(lista) != len(set(lista)):\n",
    "        return 1  # Hay elementos repetidos.\n",
    "    else:\n",
    "        return 0  # No hay elementos repetidos.\n",
    "\n",
    "# Ejemplo de uso\n",
    "lista = [1, 2, 3, 4, 5, 3]\n",
    "resultado = elementos_repetidos(lista)\n",
    "print(f\"¿Hay elementos repetidos en {lista}? {'Sí (1)' if resultado == 1 else 'No (0)'}\")\n"
   ]
  },
  {
   "cell_type": "markdown",
   "metadata": {},
   "source": [
    "Ejercicio 2: Búsqueda elemento. "
   ]
  },
  {
   "cell_type": "code",
   "execution_count": 5,
   "metadata": {},
   "outputs": [
    {
     "name": "stdout",
     "output_type": "stream",
     "text": [
      "El elemento 4 se encuentra en el índice 3.\n"
     ]
    }
   ],
   "source": [
    "def elementos_repetidos(lista):\n",
    "    \"\"\"\n",
    "    Comprueba si hay elementos repetidos en una lista.\n",
    "    :param lista: Lista de números enteros.\n",
    "    :return: 1 si hay elementos repetidos, 0 si no los hay.\n",
    "    \"\"\"\n",
    "    if len(lista) != len(set(lista)):\n",
    "        return 1  # Hay elementos repetidos.\n",
    "    else:\n",
    "        return 0  # No hay elementos repetidos.\n",
    "\n",
    "def buscar_elemento(lista, clave):\n",
    "    \"\"\"\n",
    "    Busca un elemento clave en una lista y devuelve su índice.\n",
    "    Verifica primero si la lista tiene elementos repetidos.\n",
    "    :param lista: Lista de números enteros sin elementos repetidos.\n",
    "    :param clave: Número entero a buscar.\n",
    "    :return: Índice del elemento clave si se encuentra, -1 si no se encuentra.\n",
    "    \"\"\"\n",
    "    # Verificar si hay elementos repetidos en la lista\n",
    "    if elementos_repetidos(lista) == 1:\n",
    "        print(\"Error: La lista contiene elementos repetidos.\")\n",
    "        return -1\n",
    "    \n",
    "    # Buscar el índice de la clave en la lista\n",
    "    try:\n",
    "        return lista.index(clave)  # Devuelve el índice si se encuentra\n",
    "    except ValueError:\n",
    "        return -1  # Devuelve -1 si la clave no está en la lista\n",
    "\n",
    "# Programa para probar la función\n",
    "entrada = input(\"Introduce una lista de números enteros separados por comas: \")\n",
    "\n",
    "# Filtrar elementos vacíos y convertir a enteros\n",
    "lista = [int(x.strip()) for x in entrada.split(\",\") if x.strip()]\n",
    "\n",
    "clave = int(input(\"Introduce el número clave a buscar: \"))\n",
    "\n",
    "resultado = buscar_elemento(lista, clave)\n",
    "\n",
    "if resultado != -1:\n",
    "    print(f\"El elemento {clave} se encuentra en el índice {resultado}.\")\n",
    "else:\n",
    "    print(f\"El elemento {clave} no se encuentra en la lista.\")"
   ]
  },
  {
   "cell_type": "code",
   "execution_count": 7,
   "metadata": {},
   "outputs": [
    {
     "name": "stdout",
     "output_type": "stream",
     "text": [
      "El elemento 3 se encuentra en el índice 2.\n"
     ]
    }
   ],
   "source": [
    "def elementos_repetidos(lista):\n",
    "    \"\"\"\n",
    "    Comprueba si hay elementos repetidos en una lista.\n",
    "    :param lista: Lista de números enteros.\n",
    "    :return: 1 si hay elementos repetidos, 0 si no los hay.\n",
    "    \"\"\"\n",
    "    if len(lista) != len(set(lista)):\n",
    "        return 1  # Hay elementos repetidos.\n",
    "    else:\n",
    "        return 0  # No hay elementos repetidos.\n",
    "\n",
    "def buscar_elemento(lista, clave):\n",
    "    \"\"\"\n",
    "    Busca un elemento clave en una lista y devuelve su índice.\n",
    "    Verifica primero si la lista tiene elementos repetidos.\n",
    "    :param lista: Lista de números enteros sin elementos repetidos.\n",
    "    :param clave: Número entero a buscar.\n",
    "    :return: Índice del elemento clave si se encuentra, -1 si no se encuentra.\n",
    "    \"\"\"\n",
    "    # Verificar si hay elementos repetidos en la lista\n",
    "    if elementos_repetidos(lista) == 1:\n",
    "        print(\"Error: La lista contiene elementos repetidos.\")\n",
    "        return -1\n",
    "    \n",
    "    # Buscar el índice de la clave en la lista\n",
    "    try:\n",
    "        return lista.index(clave)  # Devuelve el índice si se encuentra\n",
    "    except ValueError:\n",
    "        return -1  # Devuelve -1 si la clave no está en la lista\n",
    "\n",
    "# Lista definida directamente en el código\n",
    "lista = [1, 2, 3, 4, 5]  # Modifica esta lista según necesites\n",
    "\n",
    "# Elemento clave a buscar\n",
    "clave = 3  # Cambia este número si quieres buscar otro\n",
    "\n",
    "# Llamar a la función y mostrar el resultado\n",
    "resultado = buscar_elemento(lista, clave)\n",
    "\n",
    "if resultado != -1:\n",
    "    print(f\"El elemento {clave} se encuentra en el índice {resultado}.\")\n",
    "else:\n",
    "    print(f\"El elemento {clave} no se encuentra en la lista.\")\n"
   ]
  },
  {
   "cell_type": "markdown",
   "metadata": {},
   "source": [
    "Ejercicio 3: Ordenar lista."
   ]
  },
  {
   "cell_type": "code",
   "execution_count": 8,
   "metadata": {},
   "outputs": [
    {
     "name": "stdout",
     "output_type": "stream",
     "text": [
      "Lista original: [5, 2, 9, 1, 7, 3]\n",
      "Lista ordenada: [1, 2, 3, 5, 7, 9]\n"
     ]
    }
   ],
   "source": [
    "def ordenar_lista(lista):\n",
    "    \"\"\"\n",
    "    Ordena una lista de números enteros de menor a mayor.\n",
    "    :param lista: Lista de números enteros.\n",
    "    :return: Lista ordenada de menor a mayor.\n",
    "    \"\"\"\n",
    "    return sorted(lista)\n",
    "\n",
    "# Lista definida para probar la función\n",
    "lista = [5, 2, 9, 1, 7, 3]\n",
    "\n",
    "# Llamar a la función y mostrar la lista ordenada\n",
    "lista_ordenada = ordenar_lista(lista)\n",
    "print(f\"Lista original: {lista}\")\n",
    "print(f\"Lista ordenada: {lista_ordenada}\")\n"
   ]
  },
  {
   "cell_type": "markdown",
   "metadata": {},
   "source": [
    "Ejercicio 4: Tupla. "
   ]
  },
  {
   "cell_type": "code",
   "execution_count": 9,
   "metadata": {},
   "outputs": [
    {
     "name": "stdout",
     "output_type": "stream",
     "text": [
      "Resultados de las ventas semanales:\n",
      "Total de ventas de la semana: 2190\n",
      "Promedio diario de ventas: 312.86\n",
      "Venta máxima: 500 (día: Domingo)\n",
      "Venta mínima: 150 (día: Viernes)\n"
     ]
    }
   ],
   "source": [
    "# Datos de ventas de la semana\n",
    "ventas = (250, 300, 210, 400, 150, 380, 500)\n",
    "\n",
    "# Días de la semana en orden\n",
    "dias_semana = (\"Lunes\", \"Martes\", \"Miércoles\", \"Jueves\", \"Viernes\", \"Sábado\", \"Domingo\")\n",
    "\n",
    "# Calcular el total de ventas de la semana\n",
    "total_ventas = sum(ventas)\n",
    "\n",
    "# Calcular el promedio diario de ventas\n",
    "promedio_ventas = total_ventas / len(ventas)\n",
    "\n",
    "# Encontrar el día con la venta máxima\n",
    "venta_maxima = max(ventas)\n",
    "dia_maxima = dias_semana[ventas.index(venta_maxima)]\n",
    "\n",
    "# Encontrar el día con la venta mínima\n",
    "venta_minima = min(ventas)\n",
    "dia_minima = dias_semana[ventas.index(venta_minima)]\n",
    "\n",
    "# Mostrar resultados\n",
    "print(\"Resultados de las ventas semanales:\")\n",
    "print(f\"Total de ventas de la semana: {total_ventas}\")\n",
    "print(f\"Promedio diario de ventas: {promedio_ventas:.2f}\")\n",
    "print(f\"Venta máxima: {venta_maxima} (día: {dia_maxima})\")\n",
    "print(f\"Venta mínima: {venta_minima} (día: {dia_minima})\")\n"
   ]
  },
  {
   "cell_type": "markdown",
   "metadata": {},
   "source": [
    "Ejercicio 6: Cadenas. "
   ]
  },
  {
   "cell_type": "code",
   "execution_count": 12,
   "metadata": {},
   "outputs": [
    {
     "name": "stdout",
     "output_type": "stream",
     "text": [
      "Número de veces que aparece cada vocal en: carabola\n",
      "a: 3\n",
      "e: 0\n",
      "i: 0\n",
      "o: 1\n",
      "u: 0\n"
     ]
    }
   ],
   "source": [
    "# Pedir una palabra al usuario\n",
    "palabra = input(\"Introduce una palabra: \").lower()  # Convertir a minúsculas para evitar diferencias por mayúsculas\n",
    "\n",
    "# Inicializar un diccionario para contar las vocales\n",
    "conteo_vocales = {\"a\": 0, \"e\": 0, \"i\": 0, \"o\": 0, \"u\": 0}\n",
    "\n",
    "# Contar las vocales en la palabra\n",
    "for letra in palabra:\n",
    "    if letra in conteo_vocales:  # Verificar si la letra es una vocal\n",
    "        conteo_vocales[letra] += 1\n",
    "\n",
    "# Mostrar los resultados\n",
    "print(f\"Número de veces que aparece cada vocal en: {palabra}\")\n",
    "for vocal, cantidad in conteo_vocales.items():\n",
    "    print(f\"{vocal}: {cantidad}\")\n"
   ]
  }
 ],
 "metadata": {
  "kernelspec": {
   "display_name": "base",
   "language": "python",
   "name": "python3"
  },
  "language_info": {
   "codemirror_mode": {
    "name": "ipython",
    "version": 3
   },
   "file_extension": ".py",
   "mimetype": "text/x-python",
   "name": "python",
   "nbconvert_exporter": "python",
   "pygments_lexer": "ipython3",
   "version": "3.12.4"
  }
 },
 "nbformat": 4,
 "nbformat_minor": 2
}
