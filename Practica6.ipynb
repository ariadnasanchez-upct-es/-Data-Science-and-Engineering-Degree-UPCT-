{
 "cells": [
  {
   "cell_type": "markdown",
   "metadata": {},
   "source": [
    "# Práctica 6: Funciones II."
   ]
  },
  {
   "cell_type": "markdown",
   "metadata": {},
   "source": [
    "Ejercicio 1: Factorial recursivo"
   ]
  },
  {
   "cell_type": "code",
   "execution_count": 9,
   "metadata": {},
   "outputs": [
    {
     "name": "stdout",
     "output_type": "stream",
     "text": [
      "El factorial de 4 es 24.\n",
      "El factorial de 7 es 5040.\n",
      "El factorial de 8 es 40320.\n",
      "Programa terminado.\n",
      "Factoriales de 1 a 5:\n",
      "1! = 1\n",
      "2! = 2\n",
      "3! = 6\n",
      "4! = 24\n",
      "5! = 120\n"
     ]
    }
   ],
   "source": [
    "def factorial(n):\n",
    "    \"\"\"\n",
    "    Calcula el factorial de un número de forma recursiva.\n",
    "    Args:\n",
    "        n (int): Número del que se quiere calcular el factorial.\n",
    "    Returns:\n",
    "        int: Factorial de n.\n",
    "    \"\"\"\n",
    "    if n == 0 or n == 1:\n",
    "        return 1\n",
    "    return n * factorial(n - 1)\n",
    "\n",
    "# Programa principal\n",
    "if __name__ == \"__main__\":\n",
    "    while True:\n",
    "        # Solicitar un número positivo al usuario\n",
    "        numero = int(input(\"Introduce un número positivo (0 para salir): \"))\n",
    "\n",
    "        if numero == 0:\n",
    "            print(\"Programa terminado.\")\n",
    "            break\n",
    "\n",
    "        if numero < 0:\n",
    "            print(\"El número debe ser positivo. Inténtalo de nuevo.\")\n",
    "            continue\n",
    "\n",
    "        # Calcular y mostrar el factorial\n",
    "        print(f\"El factorial de {numero} es {factorial(numero)}.\")\n",
    "\n",
    "    # Solicitar un número N y calcular los factoriales de 1 a N\n",
    "    N = int(input(\"Introduce un número N para calcular los factoriales de 1 a N: \"))\n",
    "    if N > 0:\n",
    "        print(f\"Factoriales de 1 a {N}:\")\n",
    "        for i in range(1, N + 1):\n",
    "            print(f\"{i}! = {factorial(i)}\")\n",
    "    else:\n",
    "        print(\"El número debe ser mayor que 0 para realizar el cálculo.\")"
   ]
  },
  {
   "cell_type": "markdown",
   "metadata": {},
   "source": [
    "Ejercicio 2: Fibonacci recursivo."
   ]
  },
  {
   "cell_type": "code",
   "execution_count": null,
   "metadata": {},
   "outputs": [
    {
     "name": "stdout",
     "output_type": "stream",
     "text": [
      "El número Fibonacci en la posición 4 es 3.\n",
      "El número Fibonacci en la posición 8 es 21.\n",
      "El número Fibonacci en la posición 9 es 34.\n",
      "El número Fibonacci en la posición 6 es 8.\n",
      "Programa terminado.\n",
      "Fibonacci de 1 a 3:\n",
      "F(1) = 1\n",
      "F(2) = 1\n",
      "F(3) = 2\n"
     ]
    }
   ],
   "source": [
    "def fibonacci(n):\n",
    "    \"\"\"\n",
    "    Calcula el n-ésimo número de Fibonacci de forma recursiva.\n",
    "\n",
    "    Args:\n",
    "        n (int): Posición en la secuencia de Fibonacci.\n",
    "\n",
    "    Returns:\n",
    "        int: El n-ésimo número de Fibonacci.\n",
    "    \"\"\"\n",
    "    if n == 0:\n",
    "        return 0\n",
    "    elif n == 1:\n",
    "        return 1\n",
    "    else:\n",
    "        return fibonacci(n - 1) + fibonacci(n - 2)\n",
    "\n",
    "# Programa principal\n",
    "if __name__ == \"__main__\":\n",
    "    while True:\n",
    "        # Solicitar un número positivo al usuario\n",
    "        numero = int(input(\"Introduce un número positivo (0 para salir): \"))\n",
    "        \n",
    "        if numero == 0:\n",
    "            print(\"Programa terminado.\")\n",
    "            break\n",
    "\n",
    "        if numero < 0:\n",
    "            print(\"El número debe ser positivo. Inténtalo de nuevo.\")\n",
    "            continue\n",
    "\n",
    "        # Calcular y mostrar el número Fibonacci\n",
    "        print(f\"El número Fibonacci en la posición {numero} es {fibonacci(numero)}.\")\n",
    "\n",
    "    # Solicitar un número N y calcular los Fibonacci de 1 a N\n",
    "    N = int(input(\"Introduce un número N para calcular los Fibonacci de 1 a N: \"))\n",
    "    if N > 0:\n",
    "        print(f\"Fibonacci de 1 a {N}:\")\n",
    "        for i in range(1, N + 1):\n",
    "            print(f\"F({i}) = {fibonacci(i)}\")\n",
    "    else:\n",
    "        print(\"El número debe ser mayor que 0 para realizar el cálculo.\")"
   ]
  },
  {
   "cell_type": "markdown",
   "metadata": {},
   "source": [
    "Ejercicio 3: Potencia recursivo."
   ]
  },
  {
   "cell_type": "code",
   "execution_count": 3,
   "metadata": {},
   "outputs": [
    {
     "name": "stdout",
     "output_type": "stream",
     "text": [
      "10 elevado a 3 es: 1000\n"
     ]
    }
   ],
   "source": [
    "def potencia(base, exponente):\n",
    "    \"\"\"Función recursiva para calcular la potencia de un número.\"\"\"\n",
    "    if exponente == 0:\n",
    "        return 1\n",
    "    else:\n",
    "        return base * potencia(base, exponente - 1)\n",
    "\n",
    "def comprobar_potencia():\n",
    "    \"\"\"Función para comprobar el funcionamiento de la función de potencia.\"\"\"\n",
    "    base = int(input(\"Introduzca la base: \"))\n",
    "    exponente = int(input(\"Introduzca el exponente: \"))\n",
    "    print(f\"{base} elevado a {exponente} es: {potencia(base, exponente)}\")\n",
    "\n",
    "comprobar_potencia()"
   ]
  },
  {
   "cell_type": "markdown",
   "metadata": {},
   "source": [
    "Ejercicio 4: Decimal a Binario."
   ]
  },
  {
   "cell_type": "code",
   "execution_count": 4,
   "metadata": {},
   "outputs": [
    {
     "name": "stdout",
     "output_type": "stream",
     "text": [
      "El número 1345 en binario es: 10101000001"
     ]
    }
   ],
   "source": [
    "def decimal_a_binario(n):\n",
    "        # Caso base: si el número es 0, imprime \"0\"\n",
    "    if n == 0:\n",
    "        print(\"0\", end='')\n",
    "    # Caso base: si el número es 1, imprime \"1\"\n",
    "    elif n == 1:\n",
    "        print(\"1\", end='')\n",
    "    else:\n",
    "        # Llama recursivamente a la función con n dividido por 2\n",
    "        decimal_a_binario(n // 2)\n",
    "        # Imprime el bit correspondiente a este nivel de recursión\n",
    "        print(n % 2, end='')\n",
    "\n",
    "# Programa para probar la función\n",
    "numero = int(input(\"Introduce un número entero positivo para convertir a binario: \"))\n",
    "print(f\"El número {numero} en binario es: \", end='')\n",
    "decimal_a_binario(numero)"
   ]
  },
  {
   "cell_type": "code",
   "execution_count": 6,
   "metadata": {},
   "outputs": [
    {
     "name": "stdout",
     "output_type": "stream",
     "text": [
      "El número 56 en base 4 es: 320"
     ]
    }
   ],
   "source": [
    "# Si quieres pedir una base:\n",
    "def decimal_a_cualquier_base(n, base):\n",
    "    \"\"\"\n",
    "    Convierte un número decimal a una representación en la base especificada.\n",
    "    :param n: Número decimal a convertir.\n",
    "    :param base: Base a la que se desea convertir (2, 3, 8, 16, etc.).\n",
    "    \"\"\"\n",
    "    # Validación de base (mínimo 2)\n",
    "    if base < 2:\n",
    "        raise ValueError(\"La base debe ser al menos 2.\")\n",
    "    \n",
    "    # Caso base: si el número es 0, imprime \"0\"\n",
    "    if n == 0:\n",
    "        print(\"0\", end='')\n",
    "    # Caso base: si el número es menor que la base, imprime el dígito correspondiente\n",
    "    elif n < base:\n",
    "        print(digito_a_caracter(n), end='')\n",
    "    else:\n",
    "        # Llama recursivamente a la función con n dividido por la base\n",
    "        decimal_a_cualquier_base(n // base, base)\n",
    "        # Imprime el carácter correspondiente al resto\n",
    "        print(digito_a_caracter(n % base), end='')\n",
    "\n",
    "def digito_a_caracter(d):\n",
    "    \"\"\"\n",
    "    Convierte un dígito numérico (0-15) al carácter correspondiente (0-9, A-F).\n",
    "    :param d: Dígito numérico.\n",
    "    :return: Carácter correspondiente.\n",
    "    \"\"\"\n",
    "    if 0 <= d <= 9:\n",
    "        return str(d)  # Para dígitos del 0 al 9\n",
    "    elif 10 <= d <= 15:\n",
    "        return chr(ord('A') + d - 10)  # Para bases mayores, como hexadecimal\n",
    "    else:\n",
    "        raise ValueError(\"Dígito fuera de rango para conversión.\")\n",
    "\n",
    "# Programa para probar la función\n",
    "numero = int(input(\"Introduce un número entero positivo para convertir: \"))\n",
    "base = int(input(\"Introduce la base a la que deseas convertir (2-16): \"))\n",
    "print(f\"El número {numero} en base {base} es: \", end='')\n",
    "decimal_a_cualquier_base(numero, base)"
   ]
  },
  {
   "cell_type": "markdown",
   "metadata": {},
   "source": [
    "Ejercicio 5: Dígitos\n"
   ]
  },
  {
   "cell_type": "code",
   "execution_count": 7,
   "metadata": {},
   "outputs": [
    {
     "name": "stdout",
     "output_type": "stream",
     "text": [
      "El número 2345678 tiene 7 dígitos.\n"
     ]
    }
   ],
   "source": [
    "def contar_digitos(n):\n",
    "    \"\"\"Función recursiva para contar la cantidad de dígitos de un número entero positivo.\"\"\"\n",
    "    \n",
    "    # Caso base: si el número es 0, retorna 1 (el caso es 0 solo si lo pedimos)\n",
    "    if n == 0:\n",
    "        return 1\n",
    "    # Si n es menor que 10, significa que solo hay un dígito\n",
    "    elif n < 10:\n",
    "        return 1\n",
    "    else:\n",
    "        # Llama recursivamente a la función con n dividido por 10\n",
    "        return 1 + contar_digitos(n // 10)\n",
    "\n",
    "# Programa para probar la función\n",
    "numero = int(input(\"Introduzca un número entero positivo para contar sus dígitos: \"))\n",
    "# Asegurarse de que el número es positivo\n",
    "if numero < 0:\n",
    "    print(\"Por favor, introduzca un número entero positivo.\")\n",
    "else:\n",
    "    cantidad_digitos = contar_digitos(numero)\n",
    "    print(f\"El número {numero} tiene {cantidad_digitos} dígitos.\")"
   ]
  }
 ],
 "metadata": {
  "kernelspec": {
   "display_name": "base",
   "language": "python",
   "name": "python3"
  },
  "language_info": {
   "codemirror_mode": {
    "name": "ipython",
    "version": 3
   },
   "file_extension": ".py",
   "mimetype": "text/x-python",
   "name": "python",
   "nbconvert_exporter": "python",
   "pygments_lexer": "ipython3",
   "version": "3.12.4"
  }
 },
 "nbformat": 4,
 "nbformat_minor": 2
}
