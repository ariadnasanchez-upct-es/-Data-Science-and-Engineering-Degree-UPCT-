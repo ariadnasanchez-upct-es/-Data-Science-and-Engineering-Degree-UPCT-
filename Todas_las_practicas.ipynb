{
 "cells": [
  {
   "cell_type": "code",
   "execution_count": 1,
   "metadata": {},
   "outputs": [
    {
     "name": "stdout",
     "output_type": "stream",
     "text": [
      "Práctica 2\n"
     ]
    }
   ],
   "source": [
    "print(\"Práctica 2\")"
   ]
  },
  {
   "cell_type": "code",
   "execution_count": 2,
   "metadata": {},
   "outputs": [
    {
     "name": "stdout",
     "output_type": "stream",
     "text": [
      "Ejercicio 1. Calculadora básica.\n",
      "La suma de 2 + 3 = 5\n",
      "La resta de 2 - 3 = -1\n",
      "La multiplicación de 2 x 3 = 6\n",
      "La división de 2 / 3 = 0.6666666666666666\n",
      "La división entera de 2 / 3 = 0\n",
      "El resto de la división de 2 / 3 = 2\n"
     ]
    }
   ],
   "source": [
    "print(\"Ejercicio 1. Calculadora básica.\")\n",
    "\n",
    "a=int(input(\"Introduce el primer número\\n\"))\n",
    "b=int(input(\"Introduce el segundo número\\n\"))\n",
    "suma=a+b\n",
    "resta=a-b\n",
    "mult=a*b\n",
    "div=a/b\n",
    "divEntera=a//b\n",
    "resto=a%b\n",
    "#vamos a mostras los resultados por pantalla\n",
    "print(\"La suma de\", a, \"+\", b, \"=\", suma)\n",
    "print(\"La resta de\", a, \"-\", b, \"=\", resta)\n",
    "print(\"La multiplicación de\", a, \"x\", b, \"=\", mult)\n",
    "print(\"La división de\", a, \"/\", b, \"=\", div)\n",
    "print(\"La división entera de\", a, \"/\", b, \"=\", divEntera)\n",
    "print(\"El resto de la división de\", a, \"/\", b, \"=\", resto)"
   ]
  },
  {
   "cell_type": "code",
   "execution_count": 3,
   "metadata": {},
   "outputs": [
    {
     "name": "stdout",
     "output_type": "stream",
     "text": [
      "Ejercicio 2. Calculadora básica 2.\n",
      "La raíz cuadrada de 5 es 2.23606797749979\n",
      "El valor absoluto de 5 es 5.0\n",
      "El logarítmo en base 10 de 5 es 0.6989700043360189\n"
     ]
    }
   ],
   "source": [
    "print(\"Ejercicio 2. Calculadora básica 2.\")\n",
    "\n",
    "#importamos el módulo math, siempre en la peimera línea de la celda\n",
    "import math\n",
    "from xml.etree.ElementTree import PI\n",
    "c=int(input(\"Introduce un número entero\\n\"))\n",
    "x=math.sqrt(c) #raíz cuadrada\n",
    "y=math.fabs(c) #valor absoluto\n",
    "z=math.log10(c) #logarítmo en base 10\n",
    "\n",
    "print(\"La raíz cuadrada de\", c, \"es\", x)\n",
    "print(\"El valor absoluto de\", c, \"es\", y)\n",
    "print(\"El logarítmo en base 10 de\", c, \"es\", z)"
   ]
  },
  {
   "cell_type": "code",
   "execution_count": 4,
   "metadata": {},
   "outputs": [
    {
     "name": "stdout",
     "output_type": "stream",
     "text": [
      "Ejercicio 3. Conversor de ángulos a radianes.\n",
      "El seno en radianes es 0.08715574274765817\n",
      "El coseno en radianes es 0.9961946980917455\n",
      "La tangente en radianes es 0.08748866352592401\n"
     ]
    }
   ],
   "source": [
    "print(\"Ejercicio 3. Conversor de ángulos a radianes.\")\n",
    "\n",
    "ang=float(input(\"Introduce un valor real\\n\"))\n",
    "angRad = (ang*math.pi)/180\n",
    "e=math.sin(angRad)\n",
    "f=math.cos(angRad)\n",
    "g=math.tan(angRad)\n",
    "\n",
    "print(\"El seno en radianes es\",e)\n",
    "print(\"El coseno en radianes es\",f)\n",
    "print(\"La tangente en radianes es\",g)"
   ]
  },
  {
   "cell_type": "code",
   "execution_count": 5,
   "metadata": {},
   "outputs": [
    {
     "name": "stdout",
     "output_type": "stream",
     "text": [
      "Ejercicio 4. Ecuación.\n",
      "La solución 1 de la ecuación de segundo grado es -14.0\n",
      "La solución 2 de la ecuación de segundo grado es 12.333333333333334\n"
     ]
    }
   ],
   "source": [
    "print(\"Ejercicio 4. Ecuación.\")\n",
    "\n",
    "a=int(input(\"Introduzca un número entero\\n\"))\n",
    "b=int(input(\"Introduzca un número entero\\n\"))\n",
    "c=int(input(\"Introduzca un número entero\\n\"))\n",
    "\n",
    "𝑥1=(-b+(math.sqrt(b**2)-(4*a*c)))/(2*a)\n",
    "𝑥2=(-b-(math.sqrt(b**2)-(4*a*c)))/(2*a)\n",
    "print(\"La solución 1 de la ecuación de segundo grado es\", x1)\n",
    "print(\"La solución 2 de la ecuación de segundo grado es\", x2)"
   ]
  },
  {
   "cell_type": "code",
   "execution_count": 6,
   "metadata": {},
   "outputs": [
    {
     "name": "stdout",
     "output_type": "stream",
     "text": [
      "Ejercicio 5. Texto.\n",
      "Todas las islas, incluso las conocidas,\n",
      "son desconocidas mientras\n",
      "no desembarquemos en ellas.\n"
     ]
    }
   ],
   "source": [
    "print(\"Ejercicio 5. Texto.\")\n",
    "\n",
    "s=\"\"\"Todas las islas, incluso las conocidas,\n",
    "son desconocidas mientras\n",
    "no desembarquemos en ellas.\"\"\"\n",
    "\n",
    "print(s)"
   ]
  },
  {
   "cell_type": "code",
   "execution_count": 10,
   "metadata": {},
   "outputs": [
    {
     "name": "stdout",
     "output_type": "stream",
     "text": [
      "Ejercicio 6. Intercambio circular de valores\n",
      "Valores después del intercambio 6 2 4\n",
      "Valores después del intercambio 4 5 6 8\n"
     ]
    }
   ],
   "source": [
    "print(\"Ejercicio 6. Intercambio circular de valores\")\n",
    "\n",
    "# Solicitar al usuario que ingrese tres valores enteros\n",
    "a = int(input(\"Introduce el valor de a\\n\"))\n",
    "b = int(input(\"Introduce el valor de b\\n\"))\n",
    "c = int(input(\"Introduce el valor de c\\n\"))\n",
    "\n",
    "# Realizar el intercambio circular\n",
    "aux=b\n",
    "b=a\n",
    "a=c\n",
    "c=aux\n",
    "\n",
    "# Mostrar los valores después del intercambio\n",
    "print(\"Valores después del intercambio\", a, b, c)\n",
    "\n",
    "# Solicitar al usuario que ingrese tres valores enteros\n",
    "a = int(input(\"Introduce el valor de a\\n\"))\n",
    "b = int(input(\"Introduce el valor de b\\n\"))\n",
    "c = int(input(\"Introduce el valor de c\\n\"))\n",
    "d = int(input(\"Introduce el valor de d\\n\"))\n",
    "# Realizar el intercambio circular\n",
    "aux=a\n",
    "a=b\n",
    "b=c\n",
    "c=d\n",
    "d=aux\n",
    "\n",
    "# Mostrar los valores después del intercambio\n",
    "print(\"Valores después del intercambio\", a, b, c, d)"
   ]
  },
  {
   "cell_type": "code",
   "execution_count": 11,
   "metadata": {},
   "outputs": [
    {
     "name": "stdout",
     "output_type": "stream",
     "text": [
      "Práctica 3: Estructuras de control condicionales.\n"
     ]
    }
   ],
   "source": [
    "print(\"Práctica 3: Estructuras de control condicionales.\")"
   ]
  },
  {
   "cell_type": "code",
   "execution_count": 12,
   "metadata": {},
   "outputs": [
    {
     "name": "stdout",
     "output_type": "stream",
     "text": [
      "Ejercicio 1: Ecuación avanzada.\n",
      "La solución x1 es:  -16.0\n",
      "La solución x2 es:  14.833333333333334\n"
     ]
    }
   ],
   "source": [
    "print(\"Ejercicio 1: Ecuación avanzada.\")\n",
    "import math\n",
    "a=int(input(\"Introduzca un número entero\\n\"))\n",
    "b=int(input(\"Introduzca un número entero\\n\"))\n",
    "c=int(input(\"Introduzca un número entero\\n\"))\n",
    "\n",
    "𝑥1=(-b+(math.sqrt(b**2)-(4*a*c)))/(2*a)\n",
    "𝑥2=(-b-(math.sqrt(b**2)-(4*a*c)))/(2*a)\n",
    "\n",
    "if ((b**2)-(4*a*c)/(2*a)) > 0:\n",
    "    print(\"La solución x1 es: \", x1)\n",
    "    print(\"La solución x2 es: \", x2)\n",
    "\n",
    "if ((b**2)-(4*a*c)/(2*a)) < 0:\n",
    "    print(\"La ecuación tiene raíces complejas\")"
   ]
  },
  {
   "cell_type": "code",
   "execution_count": 14,
   "metadata": {},
   "outputs": [
    {
     "name": "stdout",
     "output_type": "stream",
     "text": [
      "Ejercicio 2: Calculadora avanzada.\n",
      "La multiplicación de x * y es:  20\n"
     ]
    }
   ],
   "source": [
    "print(\"Ejercicio 2: Calculadora avanzada.\")\n",
    "x = int(input(\"Introduzca un número entero\\n\"))\n",
    "y = int(input(\"Introduzca un número entero\\n\"))\n",
    "\n",
    "operación = int(input(\"Pulse: (1) para sumar, (2) para restar, (3) para multiplicar, (4) para dividir, y (5) para residuo.\"))\n",
    "\n",
    "if operación == 1:\n",
    "    print(\"La suma de x + y es: \", x+y)\n",
    "if operación == 2:\n",
    "    print(\"La resta de x - y es: \", x-y)\n",
    "if operación == 3:\n",
    "    print(\"La multiplicación de x * y es: \", x*y)\n",
    "if operación == 4:\n",
    "    print(\"La división de x / y es: \", x/y)\n",
    "if operación == 5:\n",
    "    print(\"El resto de la división es: \", x%y)"
   ]
  },
  {
   "cell_type": "code",
   "execution_count": 15,
   "metadata": {},
   "outputs": [
    {
     "name": "stdout",
     "output_type": "stream",
     "text": [
      "Ejercicio 3: Desglose billetes y monedas.\n",
      "1 billetes de 500\n",
      "1 billetes de 50\n",
      "1 billetes de 10\n",
      "1 billetes de 5\n",
      "1 monedas de 2\n"
     ]
    }
   ],
   "source": [
    "print(\"Ejercicio 3: Desglose billetes y monedas.\")\n",
    "\n",
    "x=int(input(\"Introduce la cantidad:\\n\"))\n",
    "\n",
    "if x>=500:\n",
    "    dinero = x // 500\n",
    "    print(dinero, \"billetes de 500\")\n",
    "    x = x % 500\n",
    "if x>=200:\n",
    "    dinero = x // 200\n",
    "    print(dinero, \"billetes de 200\")\n",
    "    x = x % 200\n",
    "if x>=100:\n",
    "    dinero = x // 100\n",
    "    print(dinero, \"billetes de 100\")\n",
    "    x = x % 100\n",
    "if x>=50:\n",
    "    dinero = x // 50\n",
    "    print(dinero, \"billetes de 50\")\n",
    "    x = x % 50\n",
    "if x>=20:\n",
    "    dinero = x // 20\n",
    "    print(dinero, \"billetes de 20\")\n",
    "    x = x % 20\n",
    "if x>=10:\n",
    "    dinero = x // 10\n",
    "    print(dinero, \"billetes de 10\")\n",
    "    x = x % 10\n",
    "if x>=5:\n",
    "    dinero = x // 5\n",
    "    print(dinero, \"billetes de 5\")\n",
    "    x = x % 5\n",
    "if x>=2:\n",
    "    dinero = x // 2\n",
    "    print(dinero, \"monedas de 2\")\n",
    "    x = x % 2\n",
    "if x>=1:\n",
    "    dinero = x // 1\n",
    "    print(dinero, \"monedas de 1\")\n",
    "    x = x % 1"
   ]
  },
  {
   "cell_type": "code",
   "execution_count": 16,
   "metadata": {},
   "outputs": [
    {
     "name": "stdout",
     "output_type": "stream",
     "text": [
      "Ejercicio 4: condiciones\n",
      "Le corresponde el lado izquierdo de la calle\n"
     ]
    }
   ],
   "source": [
    "print(\"Ejercicio 4: condiciones\")\n",
    "\n",
    "dia = int(input(\"¿Qué día es hoy (número de mes)? \\n\"))\n",
    "if 0< dia <=15:\n",
    "    print(\"Le corresponde el lado izquierdo de la calle\")\n",
    "elif 0< dia <32:\n",
    "    print(\"Le corresponde el lado derecho de la calle\")\n",
    "else:\n",
    "    print(\"dia incorrecto\")"
   ]
  },
  {
   "cell_type": "code",
   "execution_count": 29,
   "metadata": {},
   "outputs": [
    {
     "name": "stdout",
     "output_type": "stream",
     "text": [
      "Ejercicio 5: fechas\n",
      "31/3/2024\n",
      "La fecha de mañana es:/1/4/2024\n"
     ]
    }
   ],
   "source": [
    "print(\"Ejercicio 5: fechas\")\n",
    "dia = int(input(\"Hoy es el dia: \\n\"))\n",
    "mes = int(input(\"Del mes: \\n\"))\n",
    "año = int(input(\"Del año:\\n\"))\n",
    "\n",
    "print(dia, mes, año, sep=\"/\")\n",
    "\n",
    "# Días máximos para cada mes\n",
    "dias_en_mes = {1: 31, 2: 28, 3: 31, 4: 30, 5: 31, 6: 30, 7: 31, 8: 31, 9: 30, 10: 31, 11: 30, 12: 31}\n",
    "\n",
    "# Comprobación de año bisiesto\n",
    "if (año % 4 == 0 and año % 100 != 0) or (año % 400 == 0):\n",
    "    dias_en_mes[2] = 29  # Febrero tiene 29 días en años bisiestos\n",
    "\n",
    "# Validación de día y cálculo del siguiente\n",
    "if dia < dias_en_mes[mes]:  # Si no es el último día del mes\n",
    "    dia += 1\n",
    "else:  # Si es el último día del mes\n",
    "    dia = 1\n",
    "    if mes == 12:  # Si es diciembre, avanzamos al siguiente año\n",
    "        mes = 1\n",
    "        año += 1\n",
    "    else:  # Avanzamos al siguiente mes\n",
    "        mes += 1\n",
    "\n",
    "print(\"La fecha de mañana es:\", dia, mes, año, sep=\"/\")"
   ]
  },
  {
   "cell_type": "code",
   "execution_count": 19,
   "metadata": {},
   "outputs": [
    {
     "name": "stdout",
     "output_type": "stream",
     "text": [
      "Ejercicio 6\n",
      "El carácter codificado es: y\n"
     ]
    }
   ],
   "source": [
    "print(\"Ejercicio 6\")\n",
    "\n",
    "# Leer un carácter de la entrada\n",
    "caracter = input(\"Introduce un carácter: \")\n",
    "\n",
    "# Verificar si el carácter es una letra mayúscula\n",
    "if 'A' <= caracter <= 'Z':\n",
    "    if caracter == 'Z':\n",
    "        caracter_codificado = 'A'  # Z se convierte en A\n",
    "    else:\n",
    "        caracter_codificado = chr(ord(caracter) + 1)  # Siguiente letra\n",
    "\n",
    "# Verificar si el carácter es una letra minúscula\n",
    "elif 'a' <= caracter <= 'z':\n",
    "    if caracter == 'z':\n",
    "        caracter_codificado = 'a'  # z se convierte en a\n",
    "    else:\n",
    "        caracter_codificado = chr(ord(caracter) + 1)  # Siguiente letra\n",
    "\n",
    "# Verificar si el carácter es un dígito\n",
    "elif '0' <= caracter <= '9':\n",
    "    if caracter == '9':\n",
    "        caracter_codificado = '0'  # 9 se convierte en 0\n",
    "    else:\n",
    "        caracter_codificado = chr(ord(caracter) + 1)  # Siguiente número\n",
    "\n",
    "# Si no es letra ni dígito, devolver *\n",
    "else:\n",
    "    caracter_codificado = '*'\n",
    "\n",
    "# Mostrar el resultado\n",
    "print(\"El carácter codificado es:\", caracter_codificado)"
   ]
  },
  {
   "cell_type": "code",
   "execution_count": 20,
   "metadata": {},
   "outputs": [
    {
     "name": "stdout",
     "output_type": "stream",
     "text": [
      "Práctica 4: Estructuras de control iterativas.\n"
     ]
    }
   ],
   "source": [
    "print(\"Práctica 4: Estructuras de control iterativas.\")"
   ]
  },
  {
   "cell_type": "code",
   "execution_count": 21,
   "metadata": {},
   "outputs": [
    {
     "name": "stdout",
     "output_type": "stream",
     "text": [
      "Ejercicio 1: Calculadora avanzada 2.\n",
      "\n",
      "Seleccione la operación a realizar:\n",
      "(1) Sumar\n",
      "(2) Restar\n",
      "(3) Multiplicar\n",
      "(4) Dividir\n",
      "(5) Residuo (resto de la división)\n",
      "(0) Salir\n",
      "Operación no válida. Elija un número entre 0 y 5.\n",
      "\n",
      "----------------------------------\n",
      "\n",
      "\n",
      "Seleccione la operación a realizar:\n",
      "(1) Sumar\n",
      "(2) Restar\n",
      "(3) Multiplicar\n",
      "(4) Dividir\n",
      "(5) Residuo (resto de la división)\n",
      "(0) Salir\n",
      "La multiplicación de 6 * 4 es: 24\n",
      "\n",
      "----------------------------------\n",
      "\n",
      "\n",
      "Seleccione la operación a realizar:\n",
      "(1) Sumar\n",
      "(2) Restar\n",
      "(3) Multiplicar\n",
      "(4) Dividir\n",
      "(5) Residuo (resto de la división)\n",
      "(0) Salir\n",
      "Operación no válida. Elija un número entre 0 y 5.\n",
      "\n",
      "----------------------------------\n",
      "\n",
      "\n",
      "Seleccione la operación a realizar:\n",
      "(1) Sumar\n",
      "(2) Restar\n",
      "(3) Multiplicar\n",
      "(4) Dividir\n",
      "(5) Residuo (resto de la división)\n",
      "(0) Salir\n",
      "Saliendo del programa...\n",
      "\n",
      "----------------------------------\n",
      "\n"
     ]
    }
   ],
   "source": [
    "print(\"Ejercicio 1: Calculadora avanzada 2.\")\n",
    "# Variable de control para terminar el programa\n",
    "salir = False\n",
    "\n",
    "while not salir:\n",
    "    # Solicitar al usuario que introduzca dos enteros\n",
    "    x = int(input(\"Introduzca el primer número entero: \"))\n",
    "    y = int(input(\"Introduzca el segundo número entero: \"))\n",
    "    \n",
    "    # Mostrar el menú de operaciones\n",
    "    print(\"\\nSeleccione la operación a realizar:\")\n",
    "    print(\"(1) Sumar\")\n",
    "    print(\"(2) Restar\")\n",
    "    print(\"(3) Multiplicar\")\n",
    "    print(\"(4) Dividir\")\n",
    "    print(\"(5) Residuo (resto de la división)\")\n",
    "    print(\"(0) Salir\")\n",
    "    \n",
    "    # Leer la operación elegida por el usuario\n",
    "    operacion = int(input(\"\\nElija la operación (0-5): \"))\n",
    "\n",
    "    # Opción para salir\n",
    "    if operacion == 0:\n",
    "        print(\"Saliendo del programa...\")\n",
    "        salir = True  # Cambia la variable de control para salir del bucle\n",
    "    \n",
    "    # Operaciones aritméticas\n",
    "    elif operacion == 1:\n",
    "        print(f\"La suma de {x} + {y} es: {x + y}\")\n",
    "    \n",
    "    elif operacion == 2:\n",
    "        print(f\"La resta de {x} - {y} es: {x - y}\")\n",
    "    \n",
    "    elif operacion == 3:\n",
    "        print(f\"La multiplicación de {x} * {y} es: {x * y}\")\n",
    "    \n",
    "    elif operacion == 4:\n",
    "        if y != 0:\n",
    "            print(f\"La división de {x} / {y} es: {x / y}\")\n",
    "        else:\n",
    "            print(\"Imposible dividir por cero\")\n",
    "    \n",
    "    elif operacion == 5:\n",
    "        if y != 0:\n",
    "            print(f\"El residuo de {x} % {y} es: {x % y}\")\n",
    "        else:\n",
    "            print(\"Imposible dividir por cero\")\n",
    "    \n",
    "    else:\n",
    "        print(\"Operación no válida. Elija un número entre 0 y 5.\")\n",
    "    \n",
    "    # Espacio para hacer la salida más clara\n",
    "    print(\"\\n----------------------------------\\n\")"
   ]
  },
  {
   "cell_type": "code",
   "execution_count": 22,
   "metadata": {},
   "outputs": [
    {
     "name": "stdout",
     "output_type": "stream",
     "text": [
      "Ejercicio 2: Sensor de ruido.\n",
      "\n",
      "Valores generados por el sensor:\n",
      "103 96 50 13 17 120 87 109 70 33 70 109 35 83 42 120 17 58 93 34 19 46 51 64 27 97 3 20 17 43 8 23 99 75 27 113 107 5 42 102 68 101 84 55 90 71 83 1 32 26 12 43 92 37 23 107 25 62 93 47 103 75 20 18 75 23 95 84 9 73 71 97 77 116 20 115 45 13 28 115 55 106 71 112 82 40 45 56 85 55 28 94 5 94 43 87 66 29 81 69 73 2 23 99 69 102 29 36 96 27 43 27 78 74 94 29 5 93 81 100 97 56 37 77 15 55 33 33 2 4 23 103 58 15 106 53 52 21 26 91 11 104 59 66 60 112 98 52 120 120 25 31 69 69 30 73 112 29 1 65 57 31 77 46 116 3 59 21 110 98 37 78 60 22 16 36 22 117 45 102 37 108 69 116 70 68 75 28 62 46 89 82 91 95 109 76 8 50 14 96 17 59 37 84 89 1 38 29 14 55 30 117 49 22 29 94 92 31 93 69 45 101 62 88 8 107 64 45 21 38 74 59 73 1 104 0 \n",
      "\n",
      "La suma de los valores pares generados es: 6474\n"
     ]
    }
   ],
   "source": [
    "print(\"Ejercicio 2: Sensor de ruido.\")\n",
    "\n",
    "import random\n",
    "\n",
    "# Solicitar el valor de N\n",
    "N = int(input(\"Introduce el valor máximo del rango [0, N]: \"))\n",
    "\n",
    "# Inicializar variables\n",
    "suma_pares = 0\n",
    "numero_generado = -1  # Inicializarlo con un valor distinto de 0 para entrar en el bucle\n",
    "\n",
    "# Simular la generación de números aleatorios\n",
    "print(\"\\nValores generados por el sensor:\")\n",
    "while numero_generado != 0:\n",
    "    # Generar un número aleatorio en el rango [0, N]\n",
    "    numero_generado = random.randint(0, N)\n",
    "    \n",
    "    # Mostrar el número generado\n",
    "    print(numero_generado, end=\" \")\n",
    "    \n",
    "    # Si el número es par y distinto de 0, sumamos\n",
    "    if numero_generado % 2 == 0 and numero_generado != 0:\n",
    "        suma_pares += numero_generado\n",
    "\n",
    "# Mostrar la suma de los valores pares\n",
    "print(f\"\\n\\nLa suma de los valores pares generados es: {suma_pares}\")"
   ]
  },
  {
   "cell_type": "code",
   "execution_count": 23,
   "metadata": {},
   "outputs": [
    {
     "name": "stdout",
     "output_type": "stream",
     "text": [
      "Ejercicio 3: Número perfecto.\n",
      "Números perfectos entre 1 y 5:\n"
     ]
    }
   ],
   "source": [
    "print(\"Ejercicio 3: Número perfecto.\")\n",
    "\n",
    "# Pedir un número positivo al usuario\n",
    "N = -1\n",
    "while N <= 0:\n",
    "    N = int(input(\"Introduce un número positivo N: \"))\n",
    "    if N <= 0:\n",
    "        print(\"El número debe ser positivo. Inténtalo de nuevo.\")\n",
    "\n",
    "# Mostrar los números perfectos entre 1 y N\n",
    "print(f\"Números perfectos entre 1 y {N}:\")\n",
    "\n",
    "for numero in range(1, N + 1):\n",
    "    suma_divisores = 0\n",
    "    # Calcular la suma de divisores\n",
    "    for i in range(1, numero):\n",
    "        if numero % i == 0:  # Si i es un divisor de numero\n",
    "            suma_divisores += i\n",
    "    # Verificar si la suma de divisores es igual al número\n",
    "    if suma_divisores == numero:\n",
    "        print(numero)"
   ]
  },
  {
   "cell_type": "code",
   "execution_count": 24,
   "metadata": {},
   "outputs": [
    {
     "name": "stdout",
     "output_type": "stream",
     "text": [
      "Ejercicio 4. Número primo.\n",
      "Números primos entre 1 y 5:\n",
      "2\n",
      "3\n",
      "5\n"
     ]
    }
   ],
   "source": [
    "print(\"Ejercicio 4. Número primo.\")\n",
    "N = 0\n",
    "# Pedir un número positivo al usuario\n",
    "N = -1\n",
    "while N <= 0:\n",
    "    N = int(input(\"Introduce un número positivo N: \"))\n",
    "    if N <= 0:\n",
    "        print(\"El número debe ser positivo. Inténtalo de nuevo.\")\n",
    "\n",
    "# Mostrar los números primos entre 1 y N\n",
    "print(f\"Números primos entre 1 y {N}:\")\n",
    "\n",
    "for numero in range(2, N + 1):  # Comenzar desde 2, el primer número primo\n",
    "    es_primo = True  # Suponemos que el número es primo\n",
    "    for i in range(2, int(numero ** 0.5) + 1):  # Comprobar divisores hasta la raíz cuadrada de 'numero'\n",
    "        if numero % i == 0:  # Si es divisible por i\n",
    "            es_primo = False  # No es primo\n",
    "            break  # No necesitamos seguir verificando más\n",
    "    if es_primo:  # Si sigue siendo primo, lo imprimimos\n",
    "        print(numero)"
   ]
  },
  {
   "cell_type": "code",
   "execution_count": 27,
   "metadata": {},
   "outputs": [
    {
     "name": "stdout",
     "output_type": "stream",
     "text": [
      "Ejercicio 5. Adivina el número.\n",
      "¡Bienvenido al juego 'Adivina el número'!\n",
      "He generado un número entre 1 y 100. Intenta adivinarlo.\n",
      "El número es mayor. Intenta de nuevo.\n",
      "El número es menor. Intenta de nuevo.\n",
      "Te has rendido. El número secreto era 30.\n",
      "Total de intentos realizados: 2.\n"
     ]
    }
   ],
   "source": [
    "print(\"Ejercicio 5. Adivina el número.\")\n",
    "import random\n",
    "\n",
    "# Generar un número aleatorio entre 1 y 100\n",
    "numero_secreto = random.randint(1, 100)\n",
    "intentos = 0\n",
    "jugando = True  # Variable para controlar el bucle\n",
    "\n",
    "print(\"¡Bienvenido al juego 'Adivina el número'!\")\n",
    "print(\"He generado un número entre 1 y 100. Intenta adivinarlo.\")\n",
    "\n",
    "while jugando:\n",
    "    # Solicitar al usuario que adivine el número\n",
    "    adivinanza = int(input(\"Introduce tu adivinanza: \"))\n",
    "    intentos += 1\n",
    "\n",
    "    # Comprobar si la adivinanza es correcta\n",
    "    if adivinanza == numero_secreto:\n",
    "        print(f\"¡Felicidades! Has adivinado el número {numero_secreto} en {intentos} intentos.\")\n",
    "        if adivinanza == numero_secreto:\n",
    "            numero_secreto = random.randint(1, 100)\n",
    "            intentos = 0\n",
    "            jugando = True  # Variable para controlar el bucle\n",
    "    else:\n",
    "        # Dar pistas al usuario\n",
    "        if adivinanza < numero_secreto:\n",
    "            print(\"El número es mayor. Intenta de nuevo.\")\n",
    "        else:\n",
    "            print(\"El número es menor. Intenta de nuevo.\")\n",
    "\n",
    "    # Preguntar si el usuario quiere continuar o rendirse\n",
    "    continuar = input(\"¿Quieres seguir jugando? (s/n): \").lower()\n",
    "    if continuar == 'n':\n",
    "        if adivinanza != numero_secreto:\n",
    "            print(f\"Te has rendido. El número secreto era {numero_secreto}.\")\n",
    "            print(f\"Total de intentos realizados: {intentos}.\")\n",
    "        jugando = False  # Cambiar el estado para salir del bucle"
   ]
  },
  {
   "cell_type": "code",
   "execution_count": 28,
   "metadata": {},
   "outputs": [
    {
     "name": "stdout",
     "output_type": "stream",
     "text": [
      "Ejercicio 6. Triangulo de *.\n",
      "*\n",
      "***\n",
      "*****\n",
      "*******\n",
      "*********\n",
      "***********\n"
     ]
    }
   ],
   "source": [
    "print(\"Ejercicio 6. Triangulo de *.\")\n",
    "# Pedir un número positivo al usuario\n",
    "# Solicitar un número entero positivo N\n",
    "N = int(input(\"Introduce un número entero positivo para la altura del triángulo: \"))\n",
    "\n",
    "# Asegurarse de que N sea positivo\n",
    "while N <= 0:\n",
    "    N = int(input(\"Por favor, introduce un número entero positivo: \"))\n",
    "\n",
    "# Dibujar el triángulo de asteriscos\n",
    "for i in range(N):\n",
    "    # Calcular la cantidad de asteriscos en la fila actual\n",
    "    num_asteriscos = 1 + 2 * i\n",
    "    # Imprimir la fila de asteriscos\n",
    "    print('*' * num_asteriscos)"
   ]
  }
 ],
 "metadata": {
  "kernelspec": {
   "display_name": "base",
   "language": "python",
   "name": "python3"
  },
  "language_info": {
   "codemirror_mode": {
    "name": "ipython",
    "version": 3
   },
   "file_extension": ".py",
   "mimetype": "text/x-python",
   "name": "python",
   "nbconvert_exporter": "python",
   "pygments_lexer": "ipython3",
   "version": "3.12.4"
  }
 },
 "nbformat": 4,
 "nbformat_minor": 2
}
