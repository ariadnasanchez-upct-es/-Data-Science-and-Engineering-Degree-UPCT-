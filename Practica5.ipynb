{
 "cells": [
  {
   "cell_type": "markdown",
   "metadata": {},
   "source": [
    "# Práctica 5: Funciones I."
   ]
  },
  {
   "cell_type": "markdown",
   "metadata": {},
   "source": [
    "Ejercicio 1: Calculadora avanzada 3."
   ]
  },
  {
   "cell_type": "code",
   "execution_count": 1,
   "metadata": {},
   "outputs": [
    {
     "name": "stdout",
     "output_type": "stream",
     "text": [
      "Bienvenido a la Calculadora Avanzada\n",
      "Seleccione la operación:\n",
      "1. Sumar\n",
      "2. Restar\n",
      "3. Multiplicar\n",
      "4. Dividir\n",
      "5.0 + 8.0 = 13.0\n",
      "5.0 / 6.0 = 0.8333333333333334\n",
      "Saliendo de la calculadora.\n"
     ]
    }
   ],
   "source": [
    "def sumar(a, b):\n",
    "    return a + b\n",
    "\n",
    "def restar(a, b):\n",
    "    return a - b\n",
    "\n",
    "def multiplicar(a, b):\n",
    "    return a * b\n",
    "\n",
    "def dividir(a, b):\n",
    "    if b == 0:\n",
    "        return \"Error: División por cero\"\n",
    "    return a / b\n",
    "\n",
    "def calculadora():\n",
    "    print(\"Bienvenido a la Calculadora Avanzada\")\n",
    "    print(\"Seleccione la operación:\")\n",
    "    print(\"1. Sumar\")\n",
    "    print(\"2. Restar\")\n",
    "    print(\"3. Multiplicar\")\n",
    "    print(\"4. Dividir\")\n",
    "\n",
    "    while True:\n",
    "        # Solicitar la operación\n",
    "        operacion = input(\"Ingrese el número de la operación (1/2/3/4) o 'S' para salir: \")\n",
    "\n",
    "        if operacion == 'S':\n",
    "            print(\"Saliendo de la calculadora.\")\n",
    "            break\n",
    "\n",
    "        if operacion in ['1', '2', '3', '4']:\n",
    "            # Solicitar los números\n",
    "            try:\n",
    "                num1 = float(input(\"Ingrese el primer número: \"))\n",
    "                num2 = float(input(\"Ingrese el segundo número: \"))\n",
    "            except ValueError:\n",
    "                print(\"Por favor, ingrese un número válido.\")\n",
    "                continue\n",
    "\n",
    "            # Realizar la operación\n",
    "            if operacion == '1':\n",
    "                print(f\"{num1} + {num2} = {sumar(num1, num2)}\")\n",
    "            elif operacion == '2':\n",
    "                print(f\"{num1} - {num2} = {restar(num1, num2)}\")\n",
    "            elif operacion == '3':\n",
    "                print(f\"{num1} * {num2} = {multiplicar(num1, num2)}\")\n",
    "            elif operacion == '4':\n",
    "                print(f\"{num1} / {num2} = {dividir(num1, num2)}\")\n",
    "        else:\n",
    "            print(\"Operación no válida. Intente de nuevo.\")\n",
    "\n",
    "# Llamar a la función de la calculadora\n",
    "calculadora()\n"
   ]
  },
  {
   "cell_type": "markdown",
   "metadata": {},
   "source": [
    "Ejercicio 2: Funciones máximas y mínimas I"
   ]
  },
  {
   "cell_type": "code",
   "execution_count": 2,
   "metadata": {},
   "outputs": [
    {
     "name": "stdout",
     "output_type": "stream",
     "text": [
      "Número mayor: 4.0\n",
      "Número menor: 2.0\n"
     ]
    }
   ],
   "source": [
    "def maximo(a, b, c):\n",
    "    return max(a, b, c)\n",
    "\n",
    "def minimo(a, b, c):\n",
    "    return min(a, b, c)\n",
    "\n",
    "a = float(input(\"Introduzca el primer número: \"))\n",
    "b = float(input(\"Introduzca el segundo número: \"))\n",
    "c = float(input(\"Introduzca el tercer número: \"))\n",
    "print(\"Número mayor:\", maximo(a, b, c))\n",
    "print(\"Número menor:\", minimo(a, b, c))"
   ]
  },
  {
   "cell_type": "markdown",
   "metadata": {},
   "source": [
    "Ejercicio 3: Funciones máximas y mínimas II"
   ]
  },
  {
   "cell_type": "code",
   "execution_count": 4,
   "metadata": {},
   "outputs": [
    {
     "name": "stdout",
     "output_type": "stream",
     "text": [
      "Número mayor: 100.0\n",
      "Número menor: 4.0\n"
     ]
    }
   ],
   "source": [
    "def maximo_varios(*args):\n",
    "    return max(args)\n",
    "\n",
    "def minimo_varios(*args):\n",
    "    return min(args)\n",
    "\n",
    "numeros = []\n",
    "while True:\n",
    "    num = float(input(\"Introduzca un número (0 para terminar): \"))\n",
    "    if num == 0:\n",
    "        break\n",
    "    numeros.append(num)\n",
    "\n",
    "print(\"Número mayor:\", maximo_varios(*numeros))\n",
    "print(\"Número menor:\", minimo_varios(*numeros))"
   ]
  },
  {
   "cell_type": "markdown",
   "metadata": {},
   "source": [
    "Ejercicio 4: Función número perfecto"
   ]
  },
  {
   "cell_type": "code",
   "execution_count": 7,
   "metadata": {},
   "outputs": [
    {
     "name": "stdout",
     "output_type": "stream",
     "text": [
      "34 no es un número perfecto.\n",
      "56 no es un número perfecto.\n",
      "78 no es un número perfecto.\n",
      "900000 no es un número perfecto.\n"
     ]
    }
   ],
   "source": [
    "def es_numero_perfecto(n):\n",
    "    suma_divisores = sum(i for i in range(1, n) if n % i == 0)\n",
    "    return suma_divisores == n\n",
    "\n",
    "while True:\n",
    "    num = int(input(\"Introduzca un número positivo (0 para terminar): \"))\n",
    "    if num == 0:\n",
    "        break\n",
    "    if es_numero_perfecto(num):\n",
    "        print(num, \"es un número perfecto.\")\n",
    "    else:\n",
    "        print(num, \"no es un número perfecto.\")"
   ]
  },
  {
   "cell_type": "markdown",
   "metadata": {},
   "source": [
    "Ejercicio 5: Función número primo"
   ]
  },
  {
   "cell_type": "code",
   "execution_count": 8,
   "metadata": {},
   "outputs": [],
   "source": [
    "def es_numero_primo(n):\n",
    "    if n <= 1:\n",
    "        return 0\n",
    "    for i in range(2, int(n**0.5) + 1):\n",
    "        if n % i == 0:\n",
    "            return 0\n",
    "    return 1\n",
    "\n",
    "def mostrar_numeros_primos():\n",
    "    while True:\n",
    "        num = int(input(\"Introduzca un número positivo (0 para terminar): \"))\n",
    "        if num == 0:\n",
    "            break\n",
    "        if es_numero_primo(num):\n",
    "            print(num, \"es un número primo.\")\n",
    "        else:\n",
    "            print(num, \"no es un número primo.\")\n",
    "\n",
    "mostrar_numeros_primos()"
   ]
  },
  {
   "cell_type": "markdown",
   "metadata": {},
   "source": [
    "Ejercicio 6: Función multiplicar"
   ]
  },
  {
   "cell_type": "code",
   "execution_count": null,
   "metadata": {},
   "outputs": [],
   "source": [
    "def tabla_multiplicar(n):\n",
    "    for i in range(1, 11):\n",
    "        print(f\"{n} x {i} = {n * i}\")\n",
    "\n",
    "def mostrar_tablas_multiplicar():\n",
    "    n = int(input(\"Introduzca el número inicial para la tabla de multiplicar (entre 1 y 10): \"))\n",
    "    m = int(input(\"Introduzca el número final para la tabla de multiplicar: \"))\n",
    "    \n",
    "    for i in range(n, m + 1):\n",
    "        if 1 <= i <= 10:\n",
    "            print(f\"\\nTabla de multiplicar del {i}:\")\n",
    "            tabla_multiplicar(i)\n",
    "        else:\n",
    "            print(f\"El número {i} está fuera del rango permitido (1-10).\")\n",
    "\n",
    "mostrar_tablas_multiplicar()"
   ]
  },
  {
   "cell_type": "markdown",
   "metadata": {},
   "source": [
    "Ejercicio 7: Función DNI"
   ]
  },
  {
   "cell_type": "code",
   "execution_count": 8,
   "metadata": {},
   "outputs": [
    {
     "name": "stdout",
     "output_type": "stream",
     "text": [
      "El DNI no es válido. Intente de nuevo.\n",
      "El DNI es válido.\n"
     ]
    }
   ],
   "source": [
    "def letra_dni(dni):\n",
    "    letras = \"TRWAGMYFPDXBNJZSQVHLCKE\"\n",
    "    return letras[dni % 23]\n",
    "\n",
    "def es_dni_valido(dni, letra):\n",
    "    if len(str(dni)) != 8 or not str(dni).isdigit():\n",
    "        return False\n",
    "    return letra.upper() == letra_dni(dni)\n",
    "\n",
    "def validar_dni():\n",
    "    while True:\n",
    "        dni = int(input(\"Introduzca el número de DNI (8 dígitos): \"))\n",
    "        letra = input(\"Introduzca la letra del DNI: \")\n",
    "        if es_dni_valido(dni, letra):\n",
    "            print(\"El DNI es válido.\")\n",
    "            break\n",
    "        else:\n",
    "            print(\"El DNI no es válido. Intente de nuevo.\")\n",
    "\n",
    "validar_dni()"
   ]
  },
  {
   "cell_type": "markdown",
   "metadata": {},
   "source": [
    "Ejercicio 7: Función DNI con listas"
   ]
  },
  {
   "cell_type": "code",
   "execution_count": 7,
   "metadata": {},
   "outputs": [
    {
     "name": "stdout",
     "output_type": "stream",
     "text": [
      "El DNI es válido.\n"
     ]
    }
   ],
   "source": [
    "def letra_dni(dni):\n",
    "    letras = ['T', 'R', 'W', 'A', 'G', 'M', 'Y', 'F', 'P', 'D', \n",
    "              'X', 'B', 'N', 'J', 'Z', 'S', 'Q', 'V', 'H', 'L', \n",
    "              'C', 'K', 'E']\n",
    "    return letras[dni % 23]\n",
    "\n",
    "def es_dni_valido(dni, letra):\n",
    "    if len(str(dni)) != 8 or not str(dni).isdigit():\n",
    "        return False\n",
    "    return letra.upper() == letra_dni(dni)\n",
    "\n",
    "def validar_dni():\n",
    "    dni_input = input(\"Introduzca el número de DNI (8 dígitos): \")\n",
    "    if not dni_input.isdigit() or len(dni_input) != 8:\n",
    "        print(\"El número de DNI debe tener 8 dígitos. Intente de nuevo.\")\n",
    "        return\n",
    "        \n",
    "    dni = int(dni_input)\n",
    "    letra = input(\"Introduzca la letra del DNI: \")\n",
    "        \n",
    "    if es_dni_valido(dni, letra):\n",
    "        print(\"El DNI es válido.\")\n",
    "    else:\n",
    "        print(\"El DNI no es válido.\")\n",
    "\n",
    "validar_dni()"
   ]
  },
  {
   "cell_type": "code",
   "execution_count": 21,
   "metadata": {},
   "outputs": [
    {
     "name": "stdout",
     "output_type": "stream",
     "text": [
      "Contador antes de reiniciar es: 10\n",
      "Contador despues de reiniciar es: 0\n"
     ]
    }
   ],
   "source": [
    "contador=10\n",
    "def reiniciar_contador():\n",
    "    global contador\n",
    "    contador=0\n",
    "\n",
    "print(f'Contador antes de reiniciar es: {contador}')\n",
    "reiniciar_contador()\n",
    "print(f'Contador despues de reiniciar es: {contador}')"
   ]
  },
  {
   "cell_type": "code",
   "execution_count": 25,
   "metadata": {},
   "outputs": [
    {
     "data": {
      "text/plain": [
       "False"
      ]
     },
     "execution_count": 25,
     "metadata": {},
     "output_type": "execute_result"
    }
   ],
   "source": [
    "def es_palindromo(lista):\n",
    "    longitud = len(lista)\n",
    "    for i in range(longitud // 2):\n",
    "        if lista[i] != lista[longitud - 1 - i]:\n",
    "            return False\n",
    "    return True\n",
    "es_palindromo('120')"
   ]
  },
  {
   "cell_type": "code",
   "execution_count": 29,
   "metadata": {},
   "outputs": [
    {
     "data": {
      "text/plain": [
       "1"
      ]
     },
     "execution_count": 29,
     "metadata": {},
     "output_type": "execute_result"
    }
   ],
   "source": [
    "5%2"
   ]
  },
  {
   "cell_type": "code",
   "execution_count": null,
   "metadata": {},
   "outputs": [],
   "source": [
    "def burbuja(lista):\n",
    "    n = len(lista)\n",
    "    for i in range(n):\n",
    "        for j in range(0, n-i-1):\n",
    "            if lista[j] < lista[j+1]:  # Ordenar de mayor a menor\n",
    "                lista[j], lista[j+1] = lista[j+1], lista[j]\n",
    "    return lista\n",
    "\n",
    "numeros = []\n",
    "while len(numeros) < 100:\n",
    "    num = int(input(\"Introduce un número entero positivo: \"))\n",
    "    if num > 0:\n",
    "        numeros.append(num)\n",
    "\n",
    "numeros_ordenados = burbuja(numeros)\n",
    "print(\"Números ordenados de mayor a menor:\", numeros_ordenados)"
   ]
  },
  {
   "cell_type": "code",
   "execution_count": 31,
   "metadata": {},
   "outputs": [
    {
     "name": "stdout",
     "output_type": "stream",
     "text": [
      "1 \n",
      "1 1 \n",
      "1 2 1 \n",
      "1 3 3 1 \n",
      "1 4 6 4 1 \n"
     ]
    }
   ],
   "source": [
    "def factorial(n):\n",
    "    if n == 0 or n == 1:\n",
    "        return 1\n",
    "    else:\n",
    "        return n * factorial(n - 1)\n",
    "\n",
    "def combinatoria(n, k):\n",
    "    return factorial(n) // (factorial(k) * factorial(n - k))\n",
    "\n",
    "def mostrar_triangulo_tartaglia(altura):\n",
    "    for i in range(altura):\n",
    "        for j in range(i + 1):\n",
    "            print(combinatoria(i, j), end=' ')\n",
    "        print()  # Nueva línea después de cada fila\n",
    "\n",
    "# Solicitar al usuario la altura del triángulo\n",
    "altura = int(input(\"Introduce la altura del triángulo de Tartaglia: \"))\n",
    "mostrar_triangulo_tartaglia(altura)"
   ]
  }
 ],
 "metadata": {
  "kernelspec": {
   "display_name": "base",
   "language": "python",
   "name": "python3"
  },
  "language_info": {
   "codemirror_mode": {
    "name": "ipython",
    "version": 3
   },
   "file_extension": ".py",
   "mimetype": "text/x-python",
   "name": "python",
   "nbconvert_exporter": "python",
   "pygments_lexer": "ipython3",
   "version": "3.12.4"
  }
 },
 "nbformat": 4,
 "nbformat_minor": 2
}
