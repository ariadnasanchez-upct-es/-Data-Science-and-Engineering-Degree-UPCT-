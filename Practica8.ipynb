{
 "cells": [
  {
   "cell_type": "markdown",
   "metadata": {},
   "source": [
    "# Práctica 8: Conjuntos y diccionarios."
   ]
  },
  {
   "cell_type": "markdown",
   "metadata": {},
   "source": [
    "Ejercicio 1: Caracteres únicos. "
   ]
  },
  {
   "cell_type": "code",
   "execution_count": 6,
   "metadata": {},
   "outputs": [
    {
     "name": "stdout",
     "output_type": "stream",
     "text": [
      "Número de caracteres únicos: 6\n",
      "Número de caracteres únicos: 9\n",
      "Conjunto unión de todos los caracteres únicos: {'c', 's', 'd', 'j', 'v', 'r', 'w', 'i', 'l', 'a', 'p', 'o', 'h'}\n"
     ]
    }
   ],
   "source": [
    "def caracteres_unicos(cadena):\n",
    "    \"\"\"\n",
    "    Devuelve un conjunto de caracteres únicos de la cadena.\n",
    "    \"\"\"\n",
    "    return set(cadena)\n",
    "\n",
    "if __name__ == \"__main__\":\n",
    "    caracteres_totales = set()  # Conjunto que almacena todos los caracteres únicos detectados\n",
    "    while True:\n",
    "        cadena = input(\"Introduce una cadena de texto (deja vacío para salir): \")\n",
    "        if cadena == \"\":\n",
    "            break  # Termina cuando se introduce una cadena vacía\n",
    "        caracteres = caracteres_unicos(cadena)\n",
    "        print(f\"Número de caracteres únicos: {len(caracteres)}\")\n",
    "        caracteres_totales.update(caracteres)  # Añadir al conjunto total\n",
    "    print(f\"Conjunto unión de todos los caracteres únicos: {caracteres_totales}\")\n"
   ]
  },
  {
   "cell_type": "markdown",
   "metadata": {},
   "source": [
    "Ejercicio 2: Código Morse. "
   ]
  },
  {
   "cell_type": "code",
   "execution_count": 7,
   "metadata": {},
   "outputs": [
    {
     "name": "stdout",
     "output_type": "stream",
     "text": [
      "Código Morse para 4: ....-\n",
      "Código Morse para 5: .....\n",
      "Código Morse para 7: --...\n",
      "Código Morse para 8: ---..\n",
      "Código Morse para 0: -----\n"
     ]
    }
   ],
   "source": [
    "# Diccionario de mapeo de números a código Morse\n",
    "codigo_morse = {\n",
    "    '0': '-----', '1': '.----', '2': '..---', '3': '...--', '4': '....-', \n",
    "    '5': '.....', '6': '-....', '7': '--...', '8': '---..', '9': '----.'\n",
    "}\n",
    "\n",
    "def convertir_a_morse(digito):\n",
    "    \"\"\"\n",
    "    Convierte un dígito en su código Morse.\n",
    "    \"\"\"\n",
    "    return codigo_morse.get(digito, None)\n",
    "\n",
    "if __name__ == \"__main__\":\n",
    "    while True:\n",
    "        digito = input(\"Introduce un dígito (0-9) o una cadena vacía para salir: \")\n",
    "        if digito == \"\":\n",
    "            break\n",
    "        if digito in codigo_morse:\n",
    "            print(f\"Código Morse para {digito}: {convertir_a_morse(digito)}\")\n",
    "        else:\n",
    "            print(\"Error: Introduce un valor válido entre 0 y 9.\")"
   ]
  },
  {
   "cell_type": "markdown",
   "metadata": {},
   "source": [
    "Ejercicio 3: Fechas. "
   ]
  },
  {
   "cell_type": "code",
   "execution_count": 8,
   "metadata": {},
   "outputs": [
    {
     "name": "stdout",
     "output_type": "stream",
     "text": [
      "Fecha convertida: 06 de septiembre de 2006\n"
     ]
    }
   ],
   "source": [
    "# Diccionario de meses\n",
    "meses = {\n",
    "    '01': 'enero', '02': 'febrero', '03': 'marzo', '04': 'abril', \n",
    "    '05': 'mayo', '06': 'junio', '07': 'julio', '08': 'agosto', \n",
    "    '09': 'septiembre', '10': 'octubre', '11': 'noviembre', '12': 'diciembre'\n",
    "}\n",
    "\n",
    "def convertir_fecha(fecha):\n",
    "    \"\"\"\n",
    "    Convierte una fecha de formato dd/mm/aaaa a dd de <mes> de aaaa.\n",
    "    \"\"\"\n",
    "    dia, mes, anio = fecha.split('/')\n",
    "    return f\"{dia} de {meses[mes]} de {anio}\"\n",
    "\n",
    "if __name__ == \"__main__\":\n",
    "    fecha = input(\"Introduce una fecha en formato dd/mm/aaaa: \")\n",
    "    print(\"Fecha convertida:\", convertir_fecha(fecha))"
   ]
  },
  {
   "cell_type": "markdown",
   "metadata": {},
   "source": [
    "Ejercicio 4. Análisis de datos."
   ]
  },
  {
   "cell_type": "code",
   "execution_count": 9,
   "metadata": {},
   "outputs": [
    {
     "name": "stdout",
     "output_type": "stream",
     "text": [
      "Conjunto único: {78, 45, 54, 63}\n",
      "Número total de valores únicos: 4\n",
      "Valores únicos mayores que 50: {54, 78, 63}\n"
     ]
    }
   ],
   "source": [
    "# Solicitar al usuario que introduzca una lista de números\n",
    "entrada = input(\"Introduce números separados por espacios: \")\n",
    "\n",
    "# Convertir la entrada a una lista de enteros\n",
    "numeros = list(map(int, entrada.split()))\n",
    "\n",
    "# Eliminar valores duplicados utilizando un conjunto\n",
    "valores_unicos = set(numeros)\n",
    "\n",
    "# Contar el número total de valores únicos\n",
    "cantidad_unicos = len(valores_unicos)\n",
    "\n",
    "# Encontrar los valores únicos mayores que 50\n",
    "valores_mayores_50 = {valor for valor in valores_unicos if valor > 50}\n",
    "\n",
    "# Mostrar los resultados\n",
    "print(f\"Conjunto único: {valores_unicos}\")\n",
    "print(f\"Número total de valores únicos: {cantidad_unicos}\")\n",
    "print(f\"Valores únicos mayores que 50: {valores_mayores_50}\")"
   ]
  },
  {
   "cell_type": "code",
   "execution_count": 12,
   "metadata": {},
   "outputs": [
    {
     "name": "stdout",
     "output_type": "stream",
     "text": [
      "Lista de números: [23, 45, 23, 67, 45, 89, 12, 67, 89, 23]\n",
      "Conjunto único: {67, 12, 45, 23, 89}\n",
      "Número total de valores únicos: 5\n",
      "Valores únicos mayores que 50: {89, 67}\n"
     ]
    }
   ],
   "source": [
    "def analizar_datos():\n",
    "    # Recibir la lista de números\n",
    "    numeros = list(map(int, input(\"Introduce números separados por espacios: \").split()))\n",
    "    \n",
    "    # Convertir la lista a un conjunto para eliminar duplicados\n",
    "    conjunto_unico = set(numeros)\n",
    "    \n",
    "    # Mostrar los resultados\n",
    "    print(f\"Lista de números: {numeros}\")\n",
    "    print(f\"Conjunto único: {conjunto_unico}\")\n",
    "    print(f\"Número total de valores únicos: {len(conjunto_unico)}\")\n",
    "    print(f\"Valores únicos mayores que 50: {set([x for x in conjunto_unico if x > 50])}\")\n",
    "\n",
    "if __name__ == \"__main__\":\n",
    "    analizar_datos()"
   ]
  },
  {
   "cell_type": "markdown",
   "metadata": {},
   "source": [
    "Ejercicio 5: Características comunes."
   ]
  },
  {
   "cell_type": "code",
   "execution_count": 4,
   "metadata": {},
   "outputs": [
    {
     "name": "stdout",
     "output_type": "stream",
     "text": [
      "Características comunes: {'educación', 'ocupación', 'edad'}\n",
      "Exclusivas de modelo_A: {'ciudad', 'ingresos'}\n",
      "Exclusivas de modelo_B: {'género', 'estado'}\n",
      "Número total de características únicas: 7\n"
     ]
    }
   ],
   "source": [
    "# Definición de los conjuntos de características para cada modelo\n",
    "modelo_A = {\"edad\", \"ingresos\", \"educación\", \"ocupación\", \"ciudad\"}\n",
    "modelo_B = {\"edad\", \"educación\", \"género\", \"ocupación\", \"estado\"}\n",
    "\n",
    "# 1. Características comunes\n",
    "caracteristicas_comunes = modelo_A & modelo_B\n",
    "\n",
    "# 2. Características exclusivas de cada modelo\n",
    "exclusivas_A = modelo_A - modelo_B\n",
    "exclusivas_B = modelo_B - modelo_A\n",
    "\n",
    "# 3. Número total de características únicas\n",
    "total_caracteristicas_unicas = len(modelo_A | modelo_B)\n",
    "\n",
    "# Mostrar resultados\n",
    "print(f\"Características comunes: {caracteristicas_comunes}\")\n",
    "print(f\"Exclusivas de modelo_A: {exclusivas_A}\")\n",
    "print(f\"Exclusivas de modelo_B: {exclusivas_B}\")\n",
    "print(f\"Número total de características únicas: {total_caracteristicas_unicas}\")"
   ]
  }
 ],
 "metadata": {
  "kernelspec": {
   "display_name": "base",
   "language": "python",
   "name": "python3"
  },
  "language_info": {
   "codemirror_mode": {
    "name": "ipython",
    "version": 3
   },
   "file_extension": ".py",
   "mimetype": "text/x-python",
   "name": "python",
   "nbconvert_exporter": "python",
   "pygments_lexer": "ipython3",
   "version": "3.12.4"
  }
 },
 "nbformat": 4,
 "nbformat_minor": 2
}
